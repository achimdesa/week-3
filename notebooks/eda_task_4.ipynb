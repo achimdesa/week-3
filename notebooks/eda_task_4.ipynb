{
 "cells": [
  {
   "cell_type": "code",
   "execution_count": 18,
   "metadata": {},
   "outputs": [],
   "source": [
    "# Import necessary libraries\n",
    "import pandas as pd\n",
    "import numpy as np\n",
    "from sklearn.model_selection import train_test_split\n",
    "from sklearn.linear_model import LinearRegression\n",
    "from sklearn.tree import DecisionTreeRegressor\n",
    "from sklearn.ensemble import RandomForestRegressor\n",
    "import xgboost as xgb\n",
    "from sklearn.preprocessing import StandardScaler\n",
    "from sklearn.metrics import mean_squared_error, mean_absolute_error, r2_score\n",
    "\n",
    "import sys\n",
    "import os\n",
    "# Add the parent directory to sys.path\n",
    "sys.path.append(os.path.abspath('../scripts'))\n",
    "\n",
    "from data_processing import handle_missing_data, encode_categorical_data, feature_engineering\n",
    "from modeling import evaluate_model, plot_feature_importance\n",
    "import shap\n"
   ]
  },
  {
   "cell_type": "code",
   "execution_count": 9,
   "metadata": {},
   "outputs": [],
   "source": [
    "\n",
    "# Load the dataset\n",
    "file_path = '../data/MachineLearningRating_v3.txt'\n",
    "df = pd.read_csv(file_path, delimiter='|', low_memory=False)\n",
    "\n"
   ]
  },
  {
   "cell_type": "code",
   "execution_count": 10,
   "metadata": {},
   "outputs": [],
   "source": [
    "\n",
    "# Data Preparation\n",
    "# Step 1: Handle missing data\n",
    "df_cleaned = handle_missing_data(df)\n"
   ]
  },
  {
   "cell_type": "code",
   "execution_count": 11,
   "metadata": {},
   "outputs": [],
   "source": [
    "\n",
    "# Step 2: Feature Engineering (if necessary)\n",
    "df_cleaned = feature_engineering(df_cleaned)\n",
    "\n"
   ]
  },
  {
   "cell_type": "code",
   "execution_count": 12,
   "metadata": {},
   "outputs": [],
   "source": [
    "# Step 3: Encode categorical variables\n",
    "df_encoded = encode_categorical_data(df_cleaned)\n",
    "\n"
   ]
  },
  {
   "cell_type": "code",
   "execution_count": 13,
   "metadata": {},
   "outputs": [],
   "source": [
    "# Step 4: Train-test split\n",
    "X = df_encoded.drop(columns=['TotalClaims'])  # Features\n",
    "y = df_encoded['TotalClaims']  # Target variable\n",
    "X_train, X_test, y_train, y_test = train_test_split(X, y, test_size=0.2, random_state=42)\n",
    "\n"
   ]
  },
  {
   "cell_type": "code",
   "execution_count": 14,
   "metadata": {},
   "outputs": [],
   "source": [
    "# Standardize features for Linear Regression\n",
    "scaler = StandardScaler()\n",
    "X_train_scaled = scaler.fit_transform(X_train)\n",
    "X_test_scaled = scaler.transform(X_test)\n",
    "\n"
   ]
  },
  {
   "cell_type": "code",
   "execution_count": null,
   "metadata": {},
   "outputs": [
    {
     "name": "stdout",
     "output_type": "stream",
     "text": [
      "Training Linear Regression...\n"
     ]
    },
    {
     "ename": "AttributeError",
     "evalue": "module 'numpy' has no attribute 'float80'",
     "output_type": "error",
     "traceback": [
      "\u001b[1;31m---------------------------------------------------------------------------\u001b[0m",
      "\u001b[1;31mAttributeError\u001b[0m                            Traceback (most recent call last)",
      "Cell \u001b[1;32mIn[23], line 3\u001b[0m\n\u001b[0;32m      1\u001b[0m \u001b[38;5;66;03m# Model 1: Linear Regression\u001b[39;00m\n\u001b[0;32m      2\u001b[0m \u001b[38;5;28mprint\u001b[39m(\u001b[38;5;124m\"\u001b[39m\u001b[38;5;124mTraining Linear Regression...\u001b[39m\u001b[38;5;124m\"\u001b[39m)\n\u001b[1;32m----> 3\u001b[0m X_train_scaled \u001b[38;5;241m=\u001b[39m X_train_scaled\u001b[38;5;241m.\u001b[39mastype(\u001b[43mnp\u001b[49m\u001b[38;5;241;43m.\u001b[39;49m\u001b[43mfloat80\u001b[49m)\n\u001b[0;32m      4\u001b[0m lr_model \u001b[38;5;241m=\u001b[39m LinearRegression()\n\u001b[0;32m      5\u001b[0m lr_model\u001b[38;5;241m.\u001b[39mfit(X_train_scaled, y_train)\n",
      "File \u001b[1;32me:\\EDUCATION\\Kifiya_AI_Mastery_Program\\week-3\\w3venv\\Lib\\site-packages\\numpy\\__init__.py:427\u001b[0m, in \u001b[0;36m__getattr__\u001b[1;34m(attr)\u001b[0m\n\u001b[0;32m    425\u001b[0m \u001b[38;5;28;01mimport\u001b[39;00m \u001b[38;5;21;01mos\u001b[39;00m\n\u001b[0;32m    426\u001b[0m use_hugepage \u001b[38;5;241m=\u001b[39m os\u001b[38;5;241m.\u001b[39menviron\u001b[38;5;241m.\u001b[39mget(\u001b[38;5;124m\"\u001b[39m\u001b[38;5;124mNUMPY_MADVISE_HUGEPAGE\u001b[39m\u001b[38;5;124m\"\u001b[39m, \u001b[38;5;28;01mNone\u001b[39;00m)\n\u001b[1;32m--> 427\u001b[0m \u001b[38;5;28;01mif\u001b[39;00m sys\u001b[38;5;241m.\u001b[39mplatform \u001b[38;5;241m==\u001b[39m \u001b[38;5;124m\"\u001b[39m\u001b[38;5;124mlinux\u001b[39m\u001b[38;5;124m\"\u001b[39m \u001b[38;5;129;01mand\u001b[39;00m use_hugepage \u001b[38;5;129;01mis\u001b[39;00m \u001b[38;5;28;01mNone\u001b[39;00m:\n\u001b[0;32m    428\u001b[0m     \u001b[38;5;66;03m# If there is an issue with parsing the kernel version,\u001b[39;00m\n\u001b[0;32m    429\u001b[0m     \u001b[38;5;66;03m# set use_hugepages to 0. Usage of LooseVersion will handle\u001b[39;00m\n\u001b[0;32m    430\u001b[0m     \u001b[38;5;66;03m# the kernel version parsing better, but avoided since it\u001b[39;00m\n\u001b[0;32m    431\u001b[0m     \u001b[38;5;66;03m# will increase the import time. See: #16679 for related discussion.\u001b[39;00m\n\u001b[0;32m    432\u001b[0m     \u001b[38;5;28;01mtry\u001b[39;00m:\n\u001b[0;32m    433\u001b[0m         use_hugepage \u001b[38;5;241m=\u001b[39m \u001b[38;5;241m1\u001b[39m\n",
      "\u001b[1;31mAttributeError\u001b[0m: module 'numpy' has no attribute 'float80'"
     ]
    }
   ],
   "source": [
    "# Model 1: Linear Regression\n",
    "print(\"Training Linear Regression...\")\n",
    "X_train_scaled = X_train_scaled.astype(np.float32)\n",
    "lr_model = LinearRegression()\n",
    "lr_model.fit(X_train_scaled, y_train)\n",
    "y_pred_lr = lr_model.predict(X_test_scaled)\n",
    "print(\"Linear Regression Performance:\")\n",
    "evaluate_model(y_test, y_pred_lr)\n"
   ]
  },
  {
   "cell_type": "code",
   "execution_count": null,
   "metadata": {},
   "outputs": [],
   "source": [
    "\n",
    "# Model 2: Decision Tree\n",
    "print(\"Training Decision Tree...\")\n",
    "tree_model = DecisionTreeRegressor(random_state=42, max_depth=10)  # Limit depth to avoid overfitting\n",
    "tree_model.fit(X_train, y_train)\n",
    "y_pred_tree = tree_model.predict(X_test)\n",
    "print(\"Decision Tree Performance:\")\n",
    "evaluate_model(y_test, y_pred_tree)\n",
    "\n",
    "\n",
    "# Sample a subset of data if the dataset is too large\n",
    "df_sampled = df_encoded.sample(frac=0.1, random_state=42)  # Use 10% of the data\n",
    "X = df_sampled.drop(columns=['TotalClaims'])  # Features\n",
    "y = df_sampled['TotalClaims']  # Target variable\n",
    "\n",
    "# Train-test split\n",
    "X_train, X_test, y_train, y_test = train_test_split(X, y, test_size=0.2, random_state=42)\n",
    "\n"
   ]
  },
  {
   "cell_type": "code",
   "execution_count": null,
   "metadata": {},
   "outputs": [],
   "source": [
    "# Random Forest Model (reduced n_estimators and no max_depth)\n",
    "print(\"Training Random Forest...\")\n",
    "rf_model = RandomForestRegressor(n_estimators=50, random_state=42)\n",
    "rf_model.fit(X_train, y_train)\n",
    "y_pred_rf = rf_model.predict(X_test)\n",
    "print(\"Random Forest Performance:\")\n",
    "evaluate_model(y_test, y_pred_rf)\n",
    "\n",
    "\n",
    "# Model 4: XGBoost\n",
    "# Train-test split\n",
    "X = df_encoded.drop(columns=['TotalClaims'])  # Features\n",
    "y = df_encoded['TotalClaims']  # Target variable\n",
    "X_train, X_test, y_train, y_test = train_test_split(X, y, test_size=0.2, random_state=42)\n",
    "\n",
    "# Convert the datasets into DMatrix, required by XGBoost\n",
    "dtrain = xgb.DMatrix(X_train, label=y_train)\n",
    "dtest = xgb.DMatrix(X_test, label=y_test)\n",
    "\n",
    "# Set XGBoost parameters\n",
    "params = {\n",
    "    'objective': 'reg:squarederror',\n",
    "    'learning_rate': 0.1,\n",
    "    'max_depth': 5,\n",
    "    'random_state': 42,\n",
    "    'eval_metric': 'rmse'  # Root Mean Squared Error\n",
    "}\n",
    "\n",
    "# Train the XGBoost model with early stopping\n",
    "eval_set = [(dtrain, 'train'), (dtest, 'eval')]\n",
    "xgb_model = xgb.train(params, dtrain, num_boost_round=100, evals=eval_set, early_stopping_rounds=10, verbose_eval=False)\n",
    "\n",
    "# Predict on the test set\n",
    "y_pred_xgb = xgb_model.predict(dtest)\n",
    "\n",
    "# Evaluate the model performance\n",
    "print(\"XGBoost Performance:\")\n",
    "evaluate_model(y_test, y_pred_xgb)\n",
    "\n",
    "print(\"Feature Importance Analysis using SHAP...\")\n",
    "explainer = shap.TreeExplainer(rf_model)\n",
    "shap_values = explainer.shap_values(X_train)\n"
   ]
  },
  {
   "cell_type": "code",
   "execution_count": null,
   "metadata": {},
   "outputs": [],
   "source": [
    "\n",
    "# Plot SHAP summary plot\n",
    "shap.summary_plot(shap_values, X_train)\n",
    "\n",
    "# Plot feature importance for Random Forest\n",
    "plot_feature_importance(rf_model, X_train)"
   ]
  }
 ],
 "metadata": {
  "kernelspec": {
   "display_name": "w3venv",
   "language": "python",
   "name": "python3"
  },
  "language_info": {
   "codemirror_mode": {
    "name": "ipython",
    "version": 3
   },
   "file_extension": ".py",
   "mimetype": "text/x-python",
   "name": "python",
   "nbconvert_exporter": "python",
   "pygments_lexer": "ipython3",
   "version": "3.12.8"
  }
 },
 "nbformat": 4,
 "nbformat_minor": 2
}
