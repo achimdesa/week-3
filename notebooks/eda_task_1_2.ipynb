{
 "cells": [
  {
   "cell_type": "code",
   "execution_count": null,
   "metadata": {},
   "outputs": [],
   "source": [
    "\n",
    "import sys\n",
    "import os\n",
    "\n",
    "# Get the current working directory\n",
    "notebook_dir = os.getcwd()\n",
    "\n",
    "# Construct the path to the scripts folder\n",
    "scripts_dir = os.path.join(notebook_dir, '..', 'scripts')\n",
    "\n",
    "# Add the scripts directory to the Python path\n",
    "sys.path.append(scripts_dir)\n",
    "\n",
    "# Now you can import your module\n",
    "import data_processing\n",
    "import visualizations\n"
   ]
  },
  {
   "cell_type": "code",
   "execution_count": null,
   "metadata": {},
   "outputs": [],
   "source": [
    "\n",
    "# 1. Import necessary libraries and custom scripts\n",
    "#from data_processing import load_data\n",
    "#from data_processing import summarize_data, check_missing_values, check_data_types, detect_outliers\n",
    "#from visualizations import plot_histogram, plot_bar_chart, plot_correlation_matrix, plot_scatter\n"
   ]
  },
  {
   "cell_type": "code",
   "execution_count": null,
   "metadata": {},
   "outputs": [],
   "source": [
    "# 2. Load the data from your file\n",
    "file_path = '../data/MachineLearningRating_v3.txt'  \n",
    "df = load_data(file_path)\n",
    "\n",
    "\n",
    "# Check if the data loaded correctly\n",
    "print(f\"Data loaded successfully: {df is not None}\")\n",
    "print(df.head())  # Show the first few rows of the dataframe"
   ]
  },
  {
   "cell_type": "code",
   "execution_count": null,
   "metadata": {},
   "outputs": [],
   "source": [
    "# 3. Data Summary\n",
    "print(\"Data Summary:\")\n",
    "print(summarize_data(df))\n",
    "\n"
   ]
  },
  {
   "cell_type": "code",
   "execution_count": null,
   "metadata": {},
   "outputs": [],
   "source": [
    "# 4. Check for Missing Values\n",
    "print(\"\\nMissing Values:\")\n",
    "print(check_missing_values(df))\n",
    "\n"
   ]
  },
  {
   "cell_type": "code",
   "execution_count": null,
   "metadata": {},
   "outputs": [],
   "source": [
    "# 5. Data Types of Each Column\n",
    "print(\"\\nData Types:\")\n",
    "print(check_data_types(df))\n",
    "\n"
   ]
  },
  {
   "cell_type": "code",
   "execution_count": null,
   "metadata": {},
   "outputs": [],
   "source": [
    "# 6. Univariate Analysis\n",
    "# Example: Plot histograms for numerical columns\n",
    "plot_histogram(df, 'TotalPremium')\n",
    "plot_histogram(df, 'TotalClaims')\n",
    "\n",
    "# Example: Plot bar charts for categorical columns\n",
    "plot_bar_chart(df, 'Gender')\n",
    "plot_bar_chart(df, 'MaritalStatus')"
   ]
  },
  {
   "cell_type": "code",
   "execution_count": null,
   "metadata": {},
   "outputs": [],
   "source": [
    "# 7. Bivariate and Multivariate Analysis\n",
    "# Correlation matrix for numerical columns\n",
    "numeric_cols = ['TotalPremium', 'TotalClaims', 'CalculatedPremiumPerTerm', 'SumInsured']\n",
    "plot_correlation_matrix(df, numeric_cols)\n",
    "\n",
    "# Scatter plot for TotalPremium vs TotalClaims\n",
    "plot_scatter(df, 'TotalPremium', 'TotalClaims')\n"
   ]
  },
  {
   "cell_type": "code",
   "execution_count": null,
   "metadata": {},
   "outputs": [],
   "source": [
    "\n",
    "# 8. Outlier Detection\n",
    "# Detect outliers in TotalPremium and TotalClaims\n",
    "outliers_premium = detect_outliers(df, 'TotalPremium')\n",
    "outliers_claims = detect_outliers(df, 'TotalClaims')\n",
    "\n",
    "print(f\"Outliers in TotalPremium:\\n{outliers_premium}\")\n",
    "print(f\"Outliers in TotalClaims:\\n{outliers_claims}\")\n",
    "\n"
   ]
  }
 ],
 "metadata": {
  "kernelspec": {
   "display_name": "venv",
   "language": "python",
   "name": "python3"
  },
  "language_info": {
   "codemirror_mode": {
    "name": "ipython",
    "version": 3
   },
   "file_extension": ".py",
   "mimetype": "text/x-python",
   "name": "python",
   "nbconvert_exporter": "python",
   "pygments_lexer": "ipython3",
   "version": "3.12.6"
  }
 },
 "nbformat": 4,
 "nbformat_minor": 2
}
